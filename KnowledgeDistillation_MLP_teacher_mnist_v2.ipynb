{
  "nbformat": 4,
  "nbformat_minor": 0,
  "metadata": {
    "colab": {
      "provenance": [],
      "authorship_tag": "ABX9TyM9Xfwyg8S5GBQqYzDOpuZT",
      "include_colab_link": true
    },
    "kernelspec": {
      "name": "python3",
      "display_name": "Python 3"
    },
    "language_info": {
      "name": "python"
    },
    "accelerator": "GPU",
    "gpuClass": "standard"
  },
  "cells": [
    {
      "cell_type": "markdown",
      "metadata": {
        "id": "view-in-github",
        "colab_type": "text"
      },
      "source": [
        "<a href=\"https://colab.research.google.com/github/melanAm/Knowledge-Distillation/blob/teacher/KnowledgeDistillation_MLP_teacher_mnist_v2.ipynb\" target=\"_parent\"><img src=\"https://colab.research.google.com/assets/colab-badge.svg\" alt=\"Open In Colab\"/></a>"
      ]
    },
    {
      "cell_type": "markdown",
      "source": [
        "This is the implementation of the paper \"Distilling the Knowledge in a Neural Network\", Preliminalry experiments on mnist, Teacher network training code"
      ],
      "metadata": {
        "id": "GXOMltoBUwp5"
      }
    },
    {
      "cell_type": "code",
      "execution_count": 1,
      "metadata": {
        "id": "g4BebF0ZRz5K"
      },
      "outputs": [],
      "source": [
        "#import required packages\n",
        "import numpy as np\n",
        "import math\n",
        "import torch\n",
        "from torch.utils.data import DataLoader\n",
        "from torchvision import datasets,transforms\n",
        "import torch.nn as nn\n",
        "import torch.nn.functional as F\n",
        "import torch.optim as optim\n",
        "from torch.optim import SGD, lr_scheduler\n",
        "import matplotlib.pyplot as plt\n",
        "import os\n",
        "import copy\n",
        "import json\n",
        "import time"
      ]
    },
    {
      "cell_type": "code",
      "source": [
        "#hyper parameters\n",
        "batch_size = 100\n",
        "num_epochs = 100\n",
        "init_lr = 0.01\n",
        "momentum=0.9\n",
        "num_class = 10\n",
        "l = 15.0           #maximum square length of each neuron weight vector\n",
        "random_seed = 42\n",
        "device = 'cuda' if torch.cuda.is_available() else 'cpu'"
      ],
      "metadata": {
        "id": "Jp_j_qRDSBmr"
      },
      "execution_count": 19,
      "outputs": []
    },
    {
      "cell_type": "code",
      "source": [
        "if os.path.exists('/content/dataset')==False:\n",
        "  os.mkdir('dataset')"
      ],
      "metadata": {
        "id": "nplt5ItC8zya"
      },
      "execution_count": 3,
      "outputs": []
    },
    {
      "cell_type": "markdown",
      "source": [
        "#Dataset"
      ],
      "metadata": {
        "id": "Yuqdh2IQ1xiv"
      }
    },
    {
      "cell_type": "code",
      "source": [
        "#load mnist dataset\n",
        "path = '/content/dataset'\n",
        "train_transform = transforms.Compose([transforms.RandomCrop(size=(28,28),padding=(2,)),transforms.ToTensor(),transforms.Normalize((0.1307,),(0.3081,))])\n",
        "val_transform =  transforms.Compose([transforms.ToTensor(),transforms.Normalize((0.1307,),(0.3081,))])\n",
        "train_dataset = datasets.MNIST(root=path,train=True,download=True,transform=train_transform)\n",
        "val_dataset = datasets.MNIST(root=path,train=False,download=True,transform=val_transform)\n",
        "train_loader = DataLoader(train_dataset,batch_size=batch_size,shuffle=True,num_workers=2,pin_memory=torch.cuda.is_available())\n",
        "val_loader = DataLoader(val_dataset,batch_size=batch_size,shuffle=False,num_workers=2,pin_memory=torch.cuda.is_available())"
      ],
      "metadata": {
        "id": "srxZOHkPSZ_v",
        "colab": {
          "base_uri": "https://localhost:8080/"
        },
        "outputId": "33d2da02-9559-4f7d-fc80-736c4a2547cb"
      },
      "execution_count": 4,
      "outputs": [
        {
          "output_type": "stream",
          "name": "stdout",
          "text": [
            "Downloading http://yann.lecun.com/exdb/mnist/train-images-idx3-ubyte.gz\n",
            "Failed to download (trying next):\n",
            "HTTP Error 403: Forbidden\n",
            "\n",
            "Downloading https://ossci-datasets.s3.amazonaws.com/mnist/train-images-idx3-ubyte.gz\n",
            "Downloading https://ossci-datasets.s3.amazonaws.com/mnist/train-images-idx3-ubyte.gz to /content/dataset/MNIST/raw/train-images-idx3-ubyte.gz\n"
          ]
        },
        {
          "output_type": "stream",
          "name": "stderr",
          "text": [
            "100%|██████████| 9.91M/9.91M [00:00<00:00, 16.1MB/s]\n"
          ]
        },
        {
          "output_type": "stream",
          "name": "stdout",
          "text": [
            "Extracting /content/dataset/MNIST/raw/train-images-idx3-ubyte.gz to /content/dataset/MNIST/raw\n",
            "\n",
            "Downloading http://yann.lecun.com/exdb/mnist/train-labels-idx1-ubyte.gz\n",
            "Failed to download (trying next):\n",
            "HTTP Error 403: Forbidden\n",
            "\n",
            "Downloading https://ossci-datasets.s3.amazonaws.com/mnist/train-labels-idx1-ubyte.gz\n",
            "Downloading https://ossci-datasets.s3.amazonaws.com/mnist/train-labels-idx1-ubyte.gz to /content/dataset/MNIST/raw/train-labels-idx1-ubyte.gz\n"
          ]
        },
        {
          "output_type": "stream",
          "name": "stderr",
          "text": [
            "100%|██████████| 28.9k/28.9k [00:00<00:00, 482kB/s]\n"
          ]
        },
        {
          "output_type": "stream",
          "name": "stdout",
          "text": [
            "Extracting /content/dataset/MNIST/raw/train-labels-idx1-ubyte.gz to /content/dataset/MNIST/raw\n",
            "\n",
            "Downloading http://yann.lecun.com/exdb/mnist/t10k-images-idx3-ubyte.gz\n",
            "Failed to download (trying next):\n",
            "HTTP Error 403: Forbidden\n",
            "\n",
            "Downloading https://ossci-datasets.s3.amazonaws.com/mnist/t10k-images-idx3-ubyte.gz\n",
            "Downloading https://ossci-datasets.s3.amazonaws.com/mnist/t10k-images-idx3-ubyte.gz to /content/dataset/MNIST/raw/t10k-images-idx3-ubyte.gz\n"
          ]
        },
        {
          "output_type": "stream",
          "name": "stderr",
          "text": [
            "100%|██████████| 1.65M/1.65M [00:00<00:00, 4.42MB/s]\n"
          ]
        },
        {
          "output_type": "stream",
          "name": "stdout",
          "text": [
            "Extracting /content/dataset/MNIST/raw/t10k-images-idx3-ubyte.gz to /content/dataset/MNIST/raw\n",
            "\n",
            "Downloading http://yann.lecun.com/exdb/mnist/t10k-labels-idx1-ubyte.gz\n",
            "Failed to download (trying next):\n",
            "HTTP Error 403: Forbidden\n",
            "\n",
            "Downloading https://ossci-datasets.s3.amazonaws.com/mnist/t10k-labels-idx1-ubyte.gz\n",
            "Downloading https://ossci-datasets.s3.amazonaws.com/mnist/t10k-labels-idx1-ubyte.gz to /content/dataset/MNIST/raw/t10k-labels-idx1-ubyte.gz\n"
          ]
        },
        {
          "output_type": "stream",
          "name": "stderr",
          "text": [
            "100%|██████████| 4.54k/4.54k [00:00<00:00, 9.95MB/s]"
          ]
        },
        {
          "output_type": "stream",
          "name": "stdout",
          "text": [
            "Extracting /content/dataset/MNIST/raw/t10k-labels-idx1-ubyte.gz to /content/dataset/MNIST/raw\n",
            "\n"
          ]
        },
        {
          "output_type": "stream",
          "name": "stderr",
          "text": [
            "\n"
          ]
        }
      ]
    },
    {
      "cell_type": "markdown",
      "source": [
        "#Neural Network"
      ],
      "metadata": {
        "id": "8--Rb6FY06j5"
      }
    },
    {
      "cell_type": "code",
      "source": [
        "class TeacherNet(nn.Module):\n",
        "  def __init__(self):\n",
        "    super(TeacherNet,self).__init__()\n",
        "    self.fc1 = nn.Linear(in_features=784,out_features=1200,bias=True)\n",
        "    self.fc2 = nn.Linear(in_features=1200,out_features=1200,bias=True)\n",
        "    self.layer_out = nn.Linear(in_features=1200,out_features=10,bias=True)\n",
        "    self.layers = [self.fc1,self.fc2,self.layer_out]\n",
        "    self.initialize()\n",
        "\n",
        "  def initialize(self):\n",
        "    for layer in self.layers:\n",
        "      torch.nn.init.kaiming_normal_(layer.weight, mode='fan_in', nonlinearity='relu')  #He initialization\n",
        "      torch.nn.init.constant_(layer.bias,val=0.0)\n",
        "\n",
        "  def forward(self,x):\n",
        "    x = x.view(-1,784)\n",
        "    x = F.dropout(x,p=0.2,training=self.training)\n",
        "    x = F.relu(self.fc1(x))\n",
        "    x = F.dropout(x,p=0.5,training=self.training)\n",
        "    x = F.relu(self.fc2(x))\n",
        "    x = F.dropout(x,p=0.5,training=self.training)\n",
        "    x = self.layer_out(x)\n",
        "    return x"
      ],
      "metadata": {
        "id": "DMImoG0Z0ECw"
      },
      "execution_count": 5,
      "outputs": []
    },
    {
      "cell_type": "code",
      "source": [
        "use_gpu = True\n",
        "def reproducibilitySeed():\n",
        "    torch_init_seed = 42\n",
        "    torch.manual_seed(torch_init_seed)\n",
        "    numpy_init_seed = 42\n",
        "    np.random.seed(numpy_init_seed)\n",
        "    if use_gpu:\n",
        "        torch.backends.cudnn.deterministic = True\n",
        "        torch.backends.cudnn.benchmark = False\n",
        "\n",
        "reproducibilitySeed()"
      ],
      "metadata": {
        "id": "XSNRfz8rQL_M"
      },
      "execution_count": 24,
      "outputs": []
    },
    {
      "cell_type": "code",
      "source": [
        "teacher = TeacherNet().to(device)"
      ],
      "metadata": {
        "id": "lr6-P0AU0UZE"
      },
      "execution_count": 25,
      "outputs": []
    },
    {
      "cell_type": "markdown",
      "source": [
        "#Training"
      ],
      "metadata": {
        "id": "EOV6TMeV1DlY"
      }
    },
    {
      "cell_type": "code",
      "source": [
        "criterion = nn.CrossEntropyLoss()"
      ],
      "metadata": {
        "id": "M1kdpqlP2Wo-"
      },
      "execution_count": 8,
      "outputs": []
    },
    {
      "cell_type": "code",
      "source": [
        "optimizer = optim.SGD(teacher.parameters(),lr=init_lr,momentum=momentum)\n",
        "# scheduler = optim.lr_scheduler.StepLR(optimizer,step_size=30,gamma=0.1)\n",
        "scheduler = optim.lr_scheduler.ReduceLROnPlateau(optimizer, mode='min', factor=0.1, patience=10, threshold=0.001, threshold_mode='rel')"
      ],
      "metadata": {
        "id": "OUsWn200e1sb"
      },
      "execution_count": 26,
      "outputs": []
    },
    {
      "cell_type": "code",
      "source": [
        "if os.path.exists('/content/teacher')==False:\n",
        "  os.mkdir('/content/teacher')"
      ],
      "metadata": {
        "id": "uUNMNpFuAFSn"
      },
      "execution_count": 10,
      "outputs": []
    },
    {
      "cell_type": "code",
      "source": [
        "def log(t):\n",
        "        logname = os.path.join('/content/teacher', 'KnowledgeDistillation_MLP_teacher_mnist_v2.txt')\n",
        "        with open(logname, 'a') as f:\n",
        "            f.write('json_stats: ' + json.dumps(t) + '\\n')\n",
        "        print(t)"
      ],
      "metadata": {
        "id": "BZnFM2MNAEJB"
      },
      "execution_count": 11,
      "outputs": []
    },
    {
      "cell_type": "code",
      "source": [
        "def train(model,criterion,optimizer,sheduler,num_epochs):\n",
        "  bestparams = copy.deepcopy(model.state_dict())\n",
        "  best_correct = 0\n",
        "  time_start = time.time()\n",
        "  for epoch in range(num_epochs):\n",
        "    train_loss = 0.\n",
        "    val_loss = 0.\n",
        "    train_correct = 0\n",
        "    val_correct = 0\n",
        "    #training phase\n",
        "    model.train()\n",
        "    for x,y in train_loader:\n",
        "      x = x.to(device)\n",
        "      y = y.to(device)\n",
        "      optimizer.zero_grad()\n",
        "      y_hat = model.forward(x)\n",
        "      loss = criterion(y_hat,y)\n",
        "      loss.backward()\n",
        "      optimizer.step()\n",
        "      with torch.no_grad():\n",
        "        for layer in model.layers:\n",
        "            norm = torch.linalg.vector_norm(layer.weight,dim=1,keepdim=True)\n",
        "            mult_coef =  norm.reciprocal_().mul_(np.sqrt(l)).clamp_(max=1.0)\n",
        "            layer.weight.mul_(mult_coef)\n",
        "\n",
        "    model.eval()\n",
        "    for x,y in train_loader:\n",
        "      x = x.to(device)\n",
        "      y = y.to(device)\n",
        "      y_hat = model.forward(x)\n",
        "      loss = criterion(y_hat,y)\n",
        "      train_loss+= loss.item()*x.size(0)\n",
        "      train_correct += (((torch.argmax(y_hat,dim=1)==y)).sum()).item()\n",
        "    train_loss = train_loss/len(train_dataset)\n",
        "    train_error = len(train_dataset)-train_correct\n",
        "    train_acc = train_correct/len(train_dataset)\n",
        "\n",
        "    #validation phase\n",
        "    model.eval()\n",
        "    for x,y in val_loader:\n",
        "      x = x.to(device)\n",
        "      y = y.to(device)\n",
        "      y_hat = model.forward(x)\n",
        "      loss = criterion(y_hat,y)\n",
        "      val_loss += loss.item()*x.size(0)\n",
        "      val_correct += (((torch.max(y_hat,dim=1)[1]==y)).sum()).item()\n",
        "    val_loss = val_loss/len(val_dataset)\n",
        "    val_error = len(val_dataset)-val_correct\n",
        "    val_acc = val_correct/len(val_dataset)\n",
        "\n",
        "    # scheduler.step()\n",
        "    scheduler.step(val_loss)\n",
        "    if epoch%10==0:\n",
        "      print(scheduler.get_last_lr())\n",
        "\n",
        "    if val_correct > best_correct:\n",
        "      bestparams = copy.deepcopy(model.state_dict())\n",
        "      best_correct = val_correct\n",
        "\n",
        "    log({\n",
        "            \"epoch\": epoch+1,\n",
        "            \"train_loss\": train_loss,\n",
        "            \"train_correct\": train_correct,\n",
        "            \"train_error\": train_error,\n",
        "            \"train_acc\" : train_acc,\n",
        "            \"val_loss\": val_loss,\n",
        "            \"val_correct\": val_correct,\n",
        "            \"val_error\": val_error,\n",
        "            \"val_acc\" : val_acc,\n",
        "           })\n",
        "  time_fin = time.time()-time_start\n",
        "  print('time: {}'.format(time_fin))\n",
        "  return bestparams"
      ],
      "metadata": {
        "id": "ihaYol1i3MRI"
      },
      "execution_count": 27,
      "outputs": []
    },
    {
      "cell_type": "code",
      "source": [
        "optimized_params = train(teacher,criterion,optimizer,scheduler,num_epochs=num_epochs)"
      ],
      "metadata": {
        "colab": {
          "base_uri": "https://localhost:8080/"
        },
        "id": "MMKObNf15OPb",
        "outputId": "c3f8caba-935e-4fbe-d61c-c38cd9319275"
      },
      "execution_count": 28,
      "outputs": [
        {
          "output_type": "stream",
          "name": "stdout",
          "text": [
            "[0.01]\n",
            "{'epoch': 1, 'train_loss': 0.3117865451176961, 'train_correct': 54795, 'train_error': 5205, 'train_acc': 0.91325, 'val_loss': 0.2238468413800001, 'val_correct': 9479, 'val_error': 521, 'val_acc': 0.9479}\n",
            "{'epoch': 2, 'train_loss': 0.2175270348911484, 'train_correct': 56367, 'train_error': 3633, 'train_acc': 0.93945, 'val_loss': 0.16201283716596662, 'val_correct': 9609, 'val_error': 391, 'val_acc': 0.9609}\n",
            "{'epoch': 3, 'train_loss': 0.1826224053154389, 'train_correct': 56955, 'train_error': 3045, 'train_acc': 0.94925, 'val_loss': 0.1360715241637081, 'val_correct': 9673, 'val_error': 327, 'val_acc': 0.9673}\n",
            "{'epoch': 4, 'train_loss': 0.159359254638354, 'train_correct': 57311, 'train_error': 2689, 'train_acc': 0.9551833333333334, 'val_loss': 0.12191277358215302, 'val_correct': 9700, 'val_error': 300, 'val_acc': 0.97}\n",
            "{'epoch': 5, 'train_loss': 0.13997789758568008, 'train_correct': 57577, 'train_error': 2423, 'train_acc': 0.9596166666666667, 'val_loss': 0.10481890305643901, 'val_correct': 9728, 'val_error': 272, 'val_acc': 0.9728}\n",
            "{'epoch': 6, 'train_loss': 0.1274224504145483, 'train_correct': 57902, 'train_error': 2098, 'train_acc': 0.9650333333333333, 'val_loss': 0.09767674823990091, 'val_correct': 9736, 'val_error': 264, 'val_acc': 0.9736}\n",
            "{'epoch': 7, 'train_loss': 0.11745318476421138, 'train_correct': 58026, 'train_error': 1974, 'train_acc': 0.9671, 'val_loss': 0.0925476581742987, 'val_correct': 9760, 'val_error': 240, 'val_acc': 0.976}\n",
            "{'epoch': 8, 'train_loss': 0.11374488952259222, 'train_correct': 58054, 'train_error': 1946, 'train_acc': 0.9675666666666667, 'val_loss': 0.08538901006337256, 'val_correct': 9768, 'val_error': 232, 'val_acc': 0.9768}\n",
            "{'epoch': 9, 'train_loss': 0.1055755512540539, 'train_correct': 58213, 'train_error': 1787, 'train_acc': 0.9702166666666666, 'val_loss': 0.08127790397265926, 'val_correct': 9788, 'val_error': 212, 'val_acc': 0.9788}\n",
            "{'epoch': 10, 'train_loss': 0.10133572204659383, 'train_correct': 58219, 'train_error': 1781, 'train_acc': 0.9703166666666667, 'val_loss': 0.07728393412777222, 'val_correct': 9792, 'val_error': 208, 'val_acc': 0.9792}\n",
            "[0.01]\n",
            "{'epoch': 11, 'train_loss': 0.09564845240985353, 'train_correct': 58372, 'train_error': 1628, 'train_acc': 0.9728666666666667, 'val_loss': 0.0754977773502469, 'val_correct': 9785, 'val_error': 215, 'val_acc': 0.9785}\n",
            "{'epoch': 12, 'train_loss': 0.09048955481499434, 'train_correct': 58454, 'train_error': 1546, 'train_acc': 0.9742333333333333, 'val_loss': 0.07064185568131506, 'val_correct': 9813, 'val_error': 187, 'val_acc': 0.9813}\n",
            "{'epoch': 13, 'train_loss': 0.09218842788599431, 'train_correct': 58432, 'train_error': 1568, 'train_acc': 0.9738666666666667, 'val_loss': 0.07031829733052292, 'val_correct': 9811, 'val_error': 189, 'val_acc': 0.9811}\n",
            "{'epoch': 14, 'train_loss': 0.08398564716490607, 'train_correct': 58574, 'train_error': 1426, 'train_acc': 0.9762333333333333, 'val_loss': 0.06526016880059615, 'val_correct': 9842, 'val_error': 158, 'val_acc': 0.9842}\n",
            "{'epoch': 15, 'train_loss': 0.07977794792037457, 'train_correct': 58588, 'train_error': 1412, 'train_acc': 0.9764666666666667, 'val_loss': 0.06424353575799614, 'val_correct': 9830, 'val_error': 170, 'val_acc': 0.983}\n",
            "{'epoch': 16, 'train_loss': 0.08161166444265594, 'train_correct': 58604, 'train_error': 1396, 'train_acc': 0.9767333333333333, 'val_loss': 0.060672762749018144, 'val_correct': 9835, 'val_error': 165, 'val_acc': 0.9835}\n",
            "{'epoch': 17, 'train_loss': 0.07762386158574372, 'train_correct': 58677, 'train_error': 1323, 'train_acc': 0.97795, 'val_loss': 0.057311066302936524, 'val_correct': 9846, 'val_error': 154, 'val_acc': 0.9846}\n",
            "{'epoch': 18, 'train_loss': 0.07486517693226537, 'train_correct': 58723, 'train_error': 1277, 'train_acc': 0.9787166666666667, 'val_loss': 0.05642927529523149, 'val_correct': 9845, 'val_error': 155, 'val_acc': 0.9845}\n",
            "{'epoch': 19, 'train_loss': 0.07346246551101407, 'train_correct': 58697, 'train_error': 1303, 'train_acc': 0.9782833333333333, 'val_loss': 0.05579180671949871, 'val_correct': 9854, 'val_error': 146, 'val_acc': 0.9854}\n",
            "{'epoch': 20, 'train_loss': 0.07078941262327135, 'train_correct': 58789, 'train_error': 1211, 'train_acc': 0.9798166666666667, 'val_loss': 0.05661956936237402, 'val_correct': 9854, 'val_error': 146, 'val_acc': 0.9854}\n",
            "[0.01]\n",
            "{'epoch': 21, 'train_loss': 0.07016838691507776, 'train_correct': 58812, 'train_error': 1188, 'train_acc': 0.9802, 'val_loss': 0.053991403723484835, 'val_correct': 9846, 'val_error': 154, 'val_acc': 0.9846}\n",
            "{'epoch': 22, 'train_loss': 0.07192010548897088, 'train_correct': 58755, 'train_error': 1245, 'train_acc': 0.97925, 'val_loss': 0.055697537792730144, 'val_correct': 9851, 'val_error': 149, 'val_acc': 0.9851}\n",
            "{'epoch': 23, 'train_loss': 0.06708411937734733, 'train_correct': 58846, 'train_error': 1154, 'train_acc': 0.9807666666666667, 'val_loss': 0.05258655218349304, 'val_correct': 9857, 'val_error': 143, 'val_acc': 0.9857}\n",
            "{'epoch': 24, 'train_loss': 0.06742531454966715, 'train_correct': 58820, 'train_error': 1180, 'train_acc': 0.9803333333333333, 'val_loss': 0.05140195038635284, 'val_correct': 9864, 'val_error': 136, 'val_acc': 0.9864}\n",
            "{'epoch': 25, 'train_loss': 0.06653664846128474, 'train_correct': 58889, 'train_error': 1111, 'train_acc': 0.9814833333333334, 'val_loss': 0.054161123159574345, 'val_correct': 9855, 'val_error': 145, 'val_acc': 0.9855}\n",
            "{'epoch': 26, 'train_loss': 0.0653033410742258, 'train_correct': 58892, 'train_error': 1108, 'train_acc': 0.9815333333333334, 'val_loss': 0.05292146002408117, 'val_correct': 9865, 'val_error': 135, 'val_acc': 0.9865}\n",
            "{'epoch': 27, 'train_loss': 0.061597016186763845, 'train_correct': 58879, 'train_error': 1121, 'train_acc': 0.9813166666666666, 'val_loss': 0.048339039761922324, 'val_correct': 9862, 'val_error': 138, 'val_acc': 0.9862}\n",
            "{'epoch': 28, 'train_loss': 0.0609896821831353, 'train_correct': 58937, 'train_error': 1063, 'train_acc': 0.9822833333333333, 'val_loss': 0.050239109767135234, 'val_correct': 9861, 'val_error': 139, 'val_acc': 0.9861}\n",
            "{'epoch': 29, 'train_loss': 0.06090875316411257, 'train_correct': 58981, 'train_error': 1019, 'train_acc': 0.9830166666666666, 'val_loss': 0.05059152260771953, 'val_correct': 9854, 'val_error': 146, 'val_acc': 0.9854}\n",
            "{'epoch': 30, 'train_loss': 0.06031250891275704, 'train_correct': 58951, 'train_error': 1049, 'train_acc': 0.9825166666666667, 'val_loss': 0.04928206229902571, 'val_correct': 9856, 'val_error': 144, 'val_acc': 0.9856}\n",
            "[0.01]\n",
            "{'epoch': 31, 'train_loss': 0.05787468776960547, 'train_correct': 59009, 'train_error': 991, 'train_acc': 0.9834833333333334, 'val_loss': 0.0484341155475704, 'val_correct': 9866, 'val_error': 134, 'val_acc': 0.9866}\n",
            "{'epoch': 32, 'train_loss': 0.05768099206034094, 'train_correct': 59003, 'train_error': 997, 'train_acc': 0.9833833333333334, 'val_loss': 0.04729578136873897, 'val_correct': 9865, 'val_error': 135, 'val_acc': 0.9865}\n",
            "{'epoch': 33, 'train_loss': 0.055739929409852874, 'train_correct': 59030, 'train_error': 970, 'train_acc': 0.9838333333333333, 'val_loss': 0.04756913602701388, 'val_correct': 9869, 'val_error': 131, 'val_acc': 0.9869}\n",
            "{'epoch': 34, 'train_loss': 0.05364789155855154, 'train_correct': 59066, 'train_error': 934, 'train_acc': 0.9844333333333334, 'val_loss': 0.04302442725835135, 'val_correct': 9876, 'val_error': 124, 'val_acc': 0.9876}\n",
            "{'epoch': 35, 'train_loss': 0.0544713569067729, 'train_correct': 59096, 'train_error': 904, 'train_acc': 0.9849333333333333, 'val_loss': 0.04486860546167008, 'val_correct': 9876, 'val_error': 124, 'val_acc': 0.9876}\n",
            "{'epoch': 36, 'train_loss': 0.05300985792108501, 'train_correct': 59070, 'train_error': 930, 'train_acc': 0.9845, 'val_loss': 0.04390028348425403, 'val_correct': 9876, 'val_error': 124, 'val_acc': 0.9876}\n",
            "{'epoch': 37, 'train_loss': 0.053518801011765996, 'train_correct': 59045, 'train_error': 955, 'train_acc': 0.9840833333333333, 'val_loss': 0.04403121069073677, 'val_correct': 9871, 'val_error': 129, 'val_acc': 0.9871}\n",
            "{'epoch': 38, 'train_loss': 0.05087543046101928, 'train_correct': 59104, 'train_error': 896, 'train_acc': 0.9850666666666666, 'val_loss': 0.04304360202513635, 'val_correct': 9884, 'val_error': 116, 'val_acc': 0.9884}\n",
            "{'epoch': 39, 'train_loss': 0.05327738780528307, 'train_correct': 59114, 'train_error': 886, 'train_acc': 0.9852333333333333, 'val_loss': 0.04467173512268346, 'val_correct': 9877, 'val_error': 123, 'val_acc': 0.9877}\n",
            "{'epoch': 40, 'train_loss': 0.04981878309200207, 'train_correct': 59127, 'train_error': 873, 'train_acc': 0.98545, 'val_loss': 0.04409398971067276, 'val_correct': 9879, 'val_error': 121, 'val_acc': 0.9879}\n",
            "[0.01]\n",
            "{'epoch': 41, 'train_loss': 0.05086568876557673, 'train_correct': 59114, 'train_error': 886, 'train_acc': 0.9852333333333333, 'val_loss': 0.044242101225827356, 'val_correct': 9871, 'val_error': 129, 'val_acc': 0.9871}\n",
            "{'epoch': 42, 'train_loss': 0.04814875162749862, 'train_correct': 59173, 'train_error': 827, 'train_acc': 0.9862166666666666, 'val_loss': 0.04090808927983744, 'val_correct': 9880, 'val_error': 120, 'val_acc': 0.988}\n",
            "{'epoch': 43, 'train_loss': 0.05060957478436952, 'train_correct': 59116, 'train_error': 884, 'train_acc': 0.9852666666666666, 'val_loss': 0.04152074897196144, 'val_correct': 9874, 'val_error': 126, 'val_acc': 0.9874}\n",
            "{'epoch': 44, 'train_loss': 0.04904869911028072, 'train_correct': 59151, 'train_error': 849, 'train_acc': 0.98585, 'val_loss': 0.04204743934416911, 'val_correct': 9881, 'val_error': 119, 'val_acc': 0.9881}\n",
            "{'epoch': 45, 'train_loss': 0.04808831439198305, 'train_correct': 59159, 'train_error': 841, 'train_acc': 0.9859833333333333, 'val_loss': 0.04151355206151493, 'val_correct': 9880, 'val_error': 120, 'val_acc': 0.988}\n",
            "{'epoch': 46, 'train_loss': 0.04566810899646953, 'train_correct': 59202, 'train_error': 798, 'train_acc': 0.9867, 'val_loss': 0.04149293604801642, 'val_correct': 9890, 'val_error': 110, 'val_acc': 0.989}\n",
            "{'epoch': 47, 'train_loss': 0.04488886027441671, 'train_correct': 59226, 'train_error': 774, 'train_acc': 0.9871, 'val_loss': 0.03995498717180453, 'val_correct': 9881, 'val_error': 119, 'val_acc': 0.9881}\n",
            "{'epoch': 48, 'train_loss': 0.04493351400635826, 'train_correct': 59213, 'train_error': 787, 'train_acc': 0.9868833333333333, 'val_loss': 0.03978079244552646, 'val_correct': 9876, 'val_error': 124, 'val_acc': 0.9876}\n",
            "{'epoch': 49, 'train_loss': 0.044569387789815666, 'train_correct': 59200, 'train_error': 800, 'train_acc': 0.9866666666666667, 'val_loss': 0.03815135116019519, 'val_correct': 9889, 'val_error': 111, 'val_acc': 0.9889}\n",
            "{'epoch': 50, 'train_loss': 0.04400371041071291, 'train_correct': 59236, 'train_error': 764, 'train_acc': 0.9872666666666666, 'val_loss': 0.03888862862659152, 'val_correct': 9888, 'val_error': 112, 'val_acc': 0.9888}\n",
            "[0.01]\n",
            "{'epoch': 51, 'train_loss': 0.044173772026163835, 'train_correct': 59206, 'train_error': 794, 'train_acc': 0.9867666666666667, 'val_loss': 0.03885977014579112, 'val_correct': 9885, 'val_error': 115, 'val_acc': 0.9885}\n",
            "{'epoch': 52, 'train_loss': 0.043295777599172046, 'train_correct': 59255, 'train_error': 745, 'train_acc': 0.9875833333333334, 'val_loss': 0.03989471331791719, 'val_correct': 9884, 'val_error': 116, 'val_acc': 0.9884}\n",
            "{'epoch': 53, 'train_loss': 0.04399821034166962, 'train_correct': 59239, 'train_error': 761, 'train_acc': 0.9873166666666666, 'val_loss': 0.0404893557872856, 'val_correct': 9880, 'val_error': 120, 'val_acc': 0.988}\n",
            "{'epoch': 54, 'train_loss': 0.04160687070029477, 'train_correct': 59273, 'train_error': 727, 'train_acc': 0.9878833333333333, 'val_loss': 0.03815850437415065, 'val_correct': 9885, 'val_error': 115, 'val_acc': 0.9885}\n",
            "{'epoch': 55, 'train_loss': 0.044546788069807615, 'train_correct': 59221, 'train_error': 779, 'train_acc': 0.9870166666666667, 'val_loss': 0.04011666353035252, 'val_correct': 9880, 'val_error': 120, 'val_acc': 0.988}\n",
            "{'epoch': 56, 'train_loss': 0.04181391682398195, 'train_correct': 59281, 'train_error': 719, 'train_acc': 0.9880166666666667, 'val_loss': 0.038946161640924404, 'val_correct': 9890, 'val_error': 110, 'val_acc': 0.989}\n",
            "{'epoch': 57, 'train_loss': 0.0414224600190452, 'train_correct': 59270, 'train_error': 730, 'train_acc': 0.9878333333333333, 'val_loss': 0.03693530240212567, 'val_correct': 9895, 'val_error': 105, 'val_acc': 0.9895}\n",
            "{'epoch': 58, 'train_loss': 0.04069199837511405, 'train_correct': 59274, 'train_error': 726, 'train_acc': 0.9879, 'val_loss': 0.037384426618518776, 'val_correct': 9899, 'val_error': 101, 'val_acc': 0.9899}\n",
            "{'epoch': 59, 'train_loss': 0.03874425945027421, 'train_correct': 59327, 'train_error': 673, 'train_acc': 0.9887833333333333, 'val_loss': 0.03663746983977035, 'val_correct': 9894, 'val_error': 106, 'val_acc': 0.9894}\n",
            "{'epoch': 60, 'train_loss': 0.041039153357657294, 'train_correct': 59287, 'train_error': 713, 'train_acc': 0.9881166666666666, 'val_loss': 0.03638368938467465, 'val_correct': 9897, 'val_error': 103, 'val_acc': 0.9897}\n",
            "[0.01]\n",
            "{'epoch': 61, 'train_loss': 0.04060822536392758, 'train_correct': 59302, 'train_error': 698, 'train_acc': 0.9883666666666666, 'val_loss': 0.03753697102423757, 'val_correct': 9895, 'val_error': 105, 'val_acc': 0.9895}\n",
            "{'epoch': 62, 'train_loss': 0.040072281036991626, 'train_correct': 59310, 'train_error': 690, 'train_acc': 0.9885, 'val_loss': 0.03645576810173225, 'val_correct': 9894, 'val_error': 106, 'val_acc': 0.9894}\n",
            "{'epoch': 63, 'train_loss': 0.038601416205832115, 'train_correct': 59308, 'train_error': 692, 'train_acc': 0.9884666666666667, 'val_loss': 0.03719043700490147, 'val_correct': 9886, 'val_error': 114, 'val_acc': 0.9886}\n",
            "{'epoch': 64, 'train_loss': 0.040359577356527246, 'train_correct': 59306, 'train_error': 694, 'train_acc': 0.9884333333333334, 'val_loss': 0.03553957852185704, 'val_correct': 9891, 'val_error': 109, 'val_acc': 0.9891}\n",
            "{'epoch': 65, 'train_loss': 0.04010172148856024, 'train_correct': 59338, 'train_error': 662, 'train_acc': 0.9889666666666667, 'val_loss': 0.036209776779287495, 'val_correct': 9896, 'val_error': 104, 'val_acc': 0.9896}\n",
            "{'epoch': 66, 'train_loss': 0.03828733719497298, 'train_correct': 59376, 'train_error': 624, 'train_acc': 0.9896, 'val_loss': 0.035999563370714895, 'val_correct': 9898, 'val_error': 102, 'val_acc': 0.9898}\n",
            "{'epoch': 67, 'train_loss': 0.03940510169602931, 'train_correct': 59328, 'train_error': 672, 'train_acc': 0.9888, 'val_loss': 0.03616008665587287, 'val_correct': 9897, 'val_error': 103, 'val_acc': 0.9897}\n",
            "{'epoch': 68, 'train_loss': 0.03827841906963537, 'train_correct': 59364, 'train_error': 636, 'train_acc': 0.9894, 'val_loss': 0.03648884527210612, 'val_correct': 9895, 'val_error': 105, 'val_acc': 0.9895}\n",
            "{'epoch': 69, 'train_loss': 0.036661591867838676, 'train_correct': 59370, 'train_error': 630, 'train_acc': 0.9895, 'val_loss': 0.034538869896205145, 'val_correct': 9895, 'val_error': 105, 'val_acc': 0.9895}\n",
            "{'epoch': 70, 'train_loss': 0.0367131334108611, 'train_correct': 59371, 'train_error': 629, 'train_acc': 0.9895166666666667, 'val_loss': 0.03478929218603298, 'val_correct': 9900, 'val_error': 100, 'val_acc': 0.99}\n",
            "[0.01]\n",
            "{'epoch': 71, 'train_loss': 0.037585108913481234, 'train_correct': 59371, 'train_error': 629, 'train_acc': 0.9895166666666667, 'val_loss': 0.034312891936860976, 'val_correct': 9905, 'val_error': 95, 'val_acc': 0.9905}\n",
            "{'epoch': 72, 'train_loss': 0.03612458874316265, 'train_correct': 59360, 'train_error': 640, 'train_acc': 0.9893333333333333, 'val_loss': 0.03297915184841258, 'val_correct': 9906, 'val_error': 94, 'val_acc': 0.9906}\n",
            "{'epoch': 73, 'train_loss': 0.035601080323103815, 'train_correct': 59404, 'train_error': 596, 'train_acc': 0.9900666666666667, 'val_loss': 0.032840227212000174, 'val_correct': 9912, 'val_error': 88, 'val_acc': 0.9912}\n",
            "{'epoch': 74, 'train_loss': 0.036444020019844175, 'train_correct': 59346, 'train_error': 654, 'train_acc': 0.9891, 'val_loss': 0.03337720023700967, 'val_correct': 9906, 'val_error': 94, 'val_acc': 0.9906}\n"
          ]
        },
        {
          "output_type": "stream",
          "name": "stderr",
          "text": [
            "Exception ignored in: <function _MultiProcessingDataLoaderIter.__del__ at 0x7a7a080e68c0>\n",
            "Traceback (most recent call last):\n",
            "  File \"/usr/local/lib/python3.10/dist-packages/torch/utils/data/dataloader.py\", line 1604, in __del__\n",
            "    self._shutdown_workers()\n",
            "  File \"/usr/local/lib/python3.10/dist-packages/torch/utils/data/dataloader.py\", line 1587, in _shutdown_workers\n",
            "    Exception ignored in: <function _MultiProcessingDataLoaderIter.__del__ at 0x7a7a080e68c0>if w.is_alive():\n",
            "\n",
            "Traceback (most recent call last):\n",
            "  File \"/usr/lib/python3.10/multiprocessing/process.py\", line 160, in is_alive\n",
            "      File \"/usr/local/lib/python3.10/dist-packages/torch/utils/data/dataloader.py\", line 1604, in __del__\n",
            "    assert self._parent_pid == os.getpid(), 'can only test a child process'self._shutdown_workers()\n",
            "\n",
            "AssertionError:   File \"/usr/local/lib/python3.10/dist-packages/torch/utils/data/dataloader.py\", line 1587, in _shutdown_workers\n",
            "    can only test a child process\n",
            "if w.is_alive():\n",
            "  File \"/usr/lib/python3.10/multiprocessing/process.py\", line 160, in is_alive\n",
            "Exception ignored in:     assert self._parent_pid == os.getpid(), 'can only test a child process'\n",
            "AssertionError: can only test a child process\n",
            "<function _MultiProcessingDataLoaderIter.__del__ at 0x7a7a080e68c0>Exception ignored in: <function _MultiProcessingDataLoaderIter.__del__ at 0x7a7a080e68c0>\n",
            "Traceback (most recent call last):\n",
            "  File \"/usr/local/lib/python3.10/dist-packages/torch/utils/data/dataloader.py\", line 1604, in __del__\n",
            "    self._shutdown_workers()\n",
            "  File \"/usr/local/lib/python3.10/dist-packages/torch/utils/data/dataloader.py\", line 1587, in _shutdown_workers\n",
            "    \n",
            "Traceback (most recent call last):\n",
            "if w.is_alive():  File \"/usr/local/lib/python3.10/dist-packages/torch/utils/data/dataloader.py\", line 1604, in __del__\n",
            "\n",
            "  File \"/usr/lib/python3.10/multiprocessing/process.py\", line 160, in is_alive\n",
            "        assert self._parent_pid == os.getpid(), 'can only test a child process'self._shutdown_workers()\n",
            "\n",
            "AssertionError  File \"/usr/local/lib/python3.10/dist-packages/torch/utils/data/dataloader.py\", line 1587, in _shutdown_workers\n",
            ":     can only test a child processif w.is_alive():\n",
            "\n",
            "  File \"/usr/lib/python3.10/multiprocessing/process.py\", line 160, in is_alive\n",
            "    assert self._parent_pid == os.getpid(), 'can only test a child process'\n",
            "AssertionError: can only test a child process\n"
          ]
        },
        {
          "output_type": "stream",
          "name": "stdout",
          "text": [
            "{'epoch': 75, 'train_loss': 0.03546949119462321, 'train_correct': 59366, 'train_error': 634, 'train_acc': 0.9894333333333334, 'val_loss': 0.033433804888918534, 'val_correct': 9908, 'val_error': 92, 'val_acc': 0.9908}\n"
          ]
        },
        {
          "output_type": "stream",
          "name": "stderr",
          "text": [
            "Exception ignored in: <function _MultiProcessingDataLoaderIter.__del__ at 0x7a7a080e68c0>\n",
            "Traceback (most recent call last):\n",
            "  File \"/usr/local/lib/python3.10/dist-packages/torch/utils/data/dataloader.py\", line 1604, in __del__\n",
            "    self._shutdown_workers()\n",
            "  File \"/usr/local/lib/python3.10/dist-packages/torch/utils/data/dataloader.py\", line 1587, in _shutdown_workers\n",
            "    if w.is_alive():\n",
            "Exception ignored in: <function _MultiProcessingDataLoaderIter.__del__ at 0x7a7a080e68c0>  File \"/usr/lib/python3.10/multiprocessing/process.py\", line 160, in is_alive\n",
            "\n",
            "    Traceback (most recent call last):\n",
            "assert self._parent_pid == os.getpid(), 'can only test a child process'\n",
            "  File \"/usr/local/lib/python3.10/dist-packages/torch/utils/data/dataloader.py\", line 1604, in __del__\n",
            "AssertionError    : self._shutdown_workers()can only test a child process\n",
            "\n",
            "  File \"/usr/local/lib/python3.10/dist-packages/torch/utils/data/dataloader.py\", line 1587, in _shutdown_workers\n",
            "Exception ignored in:     if w.is_alive():<function _MultiProcessingDataLoaderIter.__del__ at 0x7a7a080e68c0>\n",
            "\n",
            "Traceback (most recent call last):\n",
            "  File \"/usr/lib/python3.10/multiprocessing/process.py\", line 160, in is_alive\n",
            "  File \"/usr/local/lib/python3.10/dist-packages/torch/utils/data/dataloader.py\", line 1604, in __del__\n",
            "        assert self._parent_pid == os.getpid(), 'can only test a child process'self._shutdown_workers()\n",
            "AssertionError\n",
            "  File \"/usr/local/lib/python3.10/dist-packages/torch/utils/data/dataloader.py\", line 1587, in _shutdown_workers\n",
            ":     can only test a child process\n",
            "if w.is_alive():\n",
            "  File \"/usr/lib/python3.10/multiprocessing/process.py\", line 160, in is_alive\n",
            "Exception ignored in: <function _MultiProcessingDataLoaderIter.__del__ at 0x7a7a080e68c0>    assert self._parent_pid == os.getpid(), 'can only test a child process'\n",
            "\n",
            "Traceback (most recent call last):\n",
            "AssertionError  File \"/usr/local/lib/python3.10/dist-packages/torch/utils/data/dataloader.py\", line 1604, in __del__\n",
            ":     can only test a child processself._shutdown_workers()\n",
            "\n",
            "  File \"/usr/local/lib/python3.10/dist-packages/torch/utils/data/dataloader.py\", line 1587, in _shutdown_workers\n",
            "    if w.is_alive():\n",
            "  File \"/usr/lib/python3.10/multiprocessing/process.py\", line 160, in is_alive\n",
            "    assert self._parent_pid == os.getpid(), 'can only test a child process'\n",
            "AssertionError: can only test a child process\n"
          ]
        },
        {
          "output_type": "stream",
          "name": "stdout",
          "text": [
            "{'epoch': 76, 'train_loss': 0.03624433673763027, 'train_correct': 59390, 'train_error': 610, 'train_acc': 0.9898333333333333, 'val_loss': 0.03430358037614496, 'val_correct': 9906, 'val_error': 94, 'val_acc': 0.9906}\n",
            "{'epoch': 77, 'train_loss': 0.03526644659539064, 'train_correct': 59400, 'train_error': 600, 'train_acc': 0.99, 'val_loss': 0.03318826966002234, 'val_correct': 9904, 'val_error': 96, 'val_acc': 0.9904}\n",
            "{'epoch': 78, 'train_loss': 0.03577073835923026, 'train_correct': 59358, 'train_error': 642, 'train_acc': 0.9893, 'val_loss': 0.03399814252217766, 'val_correct': 9904, 'val_error': 96, 'val_acc': 0.9904}\n",
            "{'epoch': 79, 'train_loss': 0.03418730824564894, 'train_correct': 59399, 'train_error': 601, 'train_acc': 0.9899833333333333, 'val_loss': 0.03372359765664441, 'val_correct': 9906, 'val_error': 94, 'val_acc': 0.9906}\n",
            "{'epoch': 80, 'train_loss': 0.035308166408988956, 'train_correct': 59402, 'train_error': 598, 'train_acc': 0.9900333333333333, 'val_loss': 0.033181455769808965, 'val_correct': 9903, 'val_error': 97, 'val_acc': 0.9903}\n",
            "[0.01]\n",
            "{'epoch': 81, 'train_loss': 0.03426670398155693, 'train_correct': 59425, 'train_error': 575, 'train_acc': 0.9904166666666666, 'val_loss': 0.03279971796728205, 'val_correct': 9904, 'val_error': 96, 'val_acc': 0.9904}\n",
            "{'epoch': 82, 'train_loss': 0.03376645330611306, 'train_correct': 59443, 'train_error': 557, 'train_acc': 0.9907166666666667, 'val_loss': 0.03405638017342426, 'val_correct': 9906, 'val_error': 94, 'val_acc': 0.9906}\n",
            "{'epoch': 83, 'train_loss': 0.033498937441812204, 'train_correct': 59429, 'train_error': 571, 'train_acc': 0.9904833333333334, 'val_loss': 0.03297347757034004, 'val_correct': 9913, 'val_error': 87, 'val_acc': 0.9913}\n",
            "{'epoch': 84, 'train_loss': 0.03323562563202965, 'train_correct': 59380, 'train_error': 620, 'train_acc': 0.9896666666666667, 'val_loss': 0.03160972682351712, 'val_correct': 9909, 'val_error': 91, 'val_acc': 0.9909}\n",
            "{'epoch': 85, 'train_loss': 0.034065347764796264, 'train_correct': 59409, 'train_error': 591, 'train_acc': 0.99015, 'val_loss': 0.03199697554984596, 'val_correct': 9910, 'val_error': 90, 'val_acc': 0.991}\n",
            "{'epoch': 86, 'train_loss': 0.03380097969667986, 'train_correct': 59435, 'train_error': 565, 'train_acc': 0.9905833333333334, 'val_loss': 0.03158536636823556, 'val_correct': 9912, 'val_error': 88, 'val_acc': 0.9912}\n",
            "{'epoch': 87, 'train_loss': 0.03171927595006612, 'train_correct': 59444, 'train_error': 556, 'train_acc': 0.9907333333333334, 'val_loss': 0.03157871121526114, 'val_correct': 9909, 'val_error': 91, 'val_acc': 0.9909}\n",
            "{'epoch': 88, 'train_loss': 0.031743044854762655, 'train_correct': 59430, 'train_error': 570, 'train_acc': 0.9905, 'val_loss': 0.03068371582805412, 'val_correct': 9914, 'val_error': 86, 'val_acc': 0.9914}\n",
            "{'epoch': 89, 'train_loss': 0.033048753815625484, 'train_correct': 59432, 'train_error': 568, 'train_acc': 0.9905333333333334, 'val_loss': 0.03293445718300063, 'val_correct': 9909, 'val_error': 91, 'val_acc': 0.9909}\n",
            "{'epoch': 90, 'train_loss': 0.03200486716271068, 'train_correct': 59448, 'train_error': 552, 'train_acc': 0.9908, 'val_loss': 0.031019923806888984, 'val_correct': 9914, 'val_error': 86, 'val_acc': 0.9914}\n",
            "[0.01]\n",
            "{'epoch': 91, 'train_loss': 0.032871555066667495, 'train_correct': 59431, 'train_error': 569, 'train_acc': 0.9905166666666667, 'val_loss': 0.0337407589200302, 'val_correct': 9907, 'val_error': 93, 'val_acc': 0.9907}\n",
            "{'epoch': 92, 'train_loss': 0.03191641211664925, 'train_correct': 59449, 'train_error': 551, 'train_acc': 0.9908166666666667, 'val_loss': 0.03187519965300453, 'val_correct': 9906, 'val_error': 94, 'val_acc': 0.9906}\n",
            "{'epoch': 93, 'train_loss': 0.03105260835456041, 'train_correct': 59482, 'train_error': 518, 'train_acc': 0.9913666666666666, 'val_loss': 0.03264450845395914, 'val_correct': 9900, 'val_error': 100, 'val_acc': 0.99}\n",
            "{'epoch': 94, 'train_loss': 0.03268332169779266, 'train_correct': 59443, 'train_error': 557, 'train_acc': 0.9907166666666667, 'val_loss': 0.03259793692472158, 'val_correct': 9909, 'val_error': 91, 'val_acc': 0.9909}\n",
            "{'epoch': 95, 'train_loss': 0.031211389449890704, 'train_correct': 59472, 'train_error': 528, 'train_acc': 0.9912, 'val_loss': 0.03234386589203495, 'val_correct': 9912, 'val_error': 88, 'val_acc': 0.9912}\n",
            "{'epoch': 96, 'train_loss': 0.031546360000502316, 'train_correct': 59459, 'train_error': 541, 'train_acc': 0.9909833333333333, 'val_loss': 0.03326407216547523, 'val_correct': 9899, 'val_error': 101, 'val_acc': 0.9899}\n",
            "{'epoch': 97, 'train_loss': 0.03148633671691641, 'train_correct': 59473, 'train_error': 527, 'train_acc': 0.9912166666666666, 'val_loss': 0.032144411414046774, 'val_correct': 9904, 'val_error': 96, 'val_acc': 0.9904}\n",
            "{'epoch': 98, 'train_loss': 0.029576624969486147, 'train_correct': 59495, 'train_error': 505, 'train_acc': 0.9915833333333334, 'val_loss': 0.03144621405663202, 'val_correct': 9910, 'val_error': 90, 'val_acc': 0.991}\n",
            "{'epoch': 99, 'train_loss': 0.02991921651235316, 'train_correct': 59464, 'train_error': 536, 'train_acc': 0.9910666666666667, 'val_loss': 0.032457206124381625, 'val_correct': 9901, 'val_error': 99, 'val_acc': 0.9901}\n",
            "{'epoch': 100, 'train_loss': 0.029331374384540445, 'train_correct': 59501, 'train_error': 499, 'train_acc': 0.9916833333333334, 'val_loss': 0.03178552700817818, 'val_correct': 9906, 'val_error': 94, 'val_acc': 0.9906}\n",
            "time: 3784.0898122787476\n"
          ]
        }
      ]
    },
    {
      "cell_type": "code",
      "source": [
        "torch.save(optimized_params, '/content/teacher/KnowledgeDistillation_MLP_teacher_mnist_v2.pth.tar')\n",
        "torch.save(dict(params={k: v.data for k, v in optimized_params.items()}),os.path.join('/content/teacher', 'KnowledgeDistillation_MLP_teacher_mnist_v2.pt7'))\n",
        "torch.save({k: v.data for k, v in optimized_params.items()},'/content/teacher/KnowledgeDistillation_MLP_teacher_mnist_v2')"
      ],
      "metadata": {
        "id": "KDA-VxPL5cd4"
      },
      "execution_count": 29,
      "outputs": []
    },
    {
      "cell_type": "code",
      "source": [],
      "metadata": {
        "id": "Do8lfB3f5x6J"
      },
      "execution_count": null,
      "outputs": []
    }
  ]
}