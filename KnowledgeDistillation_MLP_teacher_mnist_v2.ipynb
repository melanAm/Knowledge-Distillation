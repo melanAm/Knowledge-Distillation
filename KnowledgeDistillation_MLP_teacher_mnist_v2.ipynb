{
  "nbformat": 4,
  "nbformat_minor": 0,
  "metadata": {
    "colab": {
      "provenance": [],
      "authorship_tag": "ABX9TyND2oYo8VzKu4sZqKcpNv3R",
      "include_colab_link": true
    },
    "kernelspec": {
      "name": "python3",
      "display_name": "Python 3"
    },
    "language_info": {
      "name": "python"
    },
    "accelerator": "GPU",
    "gpuClass": "standard"
  },
  "cells": [
    {
      "cell_type": "markdown",
      "metadata": {
        "id": "view-in-github",
        "colab_type": "text"
      },
      "source": [
        "<a href=\"https://colab.research.google.com/github/melanAm/Knowledge-Distillation/blob/teacher/KnowledgeDistillation_MLP_teacher_mnist_v2.ipynb\" target=\"_parent\"><img src=\"https://colab.research.google.com/assets/colab-badge.svg\" alt=\"Open In Colab\"/></a>"
      ]
    },
    {
      "cell_type": "markdown",
      "source": [
        "This is the implementation of the paper \"Distilling the Knowledge in a Neural Network\", Preliminalry experiments on mnist, Teacher network training code"
      ],
      "metadata": {
        "id": "GXOMltoBUwp5"
      }
    },
    {
      "cell_type": "code",
      "execution_count": 1,
      "metadata": {
        "id": "g4BebF0ZRz5K"
      },
      "outputs": [],
      "source": [
        "#import required packages\n",
        "import numpy as np\n",
        "import math\n",
        "import torch\n",
        "from torch.utils.data import DataLoader\n",
        "from torchvision import datasets,transforms\n",
        "import torch.nn as nn\n",
        "import torch.nn.functional as F\n",
        "import torch.optim as optim\n",
        "from torch.optim import SGD, lr_scheduler\n",
        "import matplotlib.pyplot as plt\n",
        "import os\n",
        "import copy\n",
        "import json\n",
        "import time"
      ]
    },
    {
      "cell_type": "code",
      "source": [
        "#hyper parameters\n",
        "batch_size = 100\n",
        "num_epochs = 100\n",
        "init_lr = 0.01\n",
        "momentum=0.9\n",
        "num_class = 10\n",
        "l = 15.0           #maximum square length of each neuron weight vector\n",
        "random_seed = 42\n",
        "device = 'cuda' if torch.cuda.is_available() else 'cpu'"
      ],
      "metadata": {
        "id": "Jp_j_qRDSBmr"
      },
      "execution_count": 2,
      "outputs": []
    },
    {
      "cell_type": "code",
      "source": [
        "if os.path.exists('/content/dataset')==False:\n",
        "  os.mkdir('dataset')"
      ],
      "metadata": {
        "id": "nplt5ItC8zya"
      },
      "execution_count": 3,
      "outputs": []
    },
    {
      "cell_type": "markdown",
      "source": [
        "#Dataset"
      ],
      "metadata": {
        "id": "Yuqdh2IQ1xiv"
      }
    },
    {
      "cell_type": "code",
      "source": [
        "#load mnist dataset\n",
        "path = '/content/dataset'\n",
        "train_transform = transforms.Compose([transforms.RandomCrop(size=(28,28),padding=(2,)),transforms.ToTensor(),transforms.Normalize((0.1307,),(0.3081,))])\n",
        "val_transform =  transforms.Compose([transforms.ToTensor(),transforms.Normalize((0.1307,),(0.3081,))])\n",
        "train_dataset = datasets.MNIST(root=path,train=True,download=True,transform=train_transform)\n",
        "val_dataset = datasets.MNIST(root=path,train=False,download=True,transform=val_transform)\n",
        "train_loader = DataLoader(train_dataset,batch_size=batch_size,shuffle=True,num_workers=2,pin_memory=torch.cuda.is_available())\n",
        "val_loader = DataLoader(val_dataset,batch_size=batch_size,shuffle=False,num_workers=2,pin_memory=torch.cuda.is_available())"
      ],
      "metadata": {
        "id": "srxZOHkPSZ_v",
        "colab": {
          "base_uri": "https://localhost:8080/"
        },
        "outputId": "d99ceeee-a094-480c-88bd-3b921d3fb3aa"
      },
      "execution_count": 4,
      "outputs": [
        {
          "output_type": "stream",
          "name": "stdout",
          "text": [
            "Downloading http://yann.lecun.com/exdb/mnist/train-images-idx3-ubyte.gz\n",
            "Failed to download (trying next):\n",
            "HTTP Error 403: Forbidden\n",
            "\n",
            "Downloading https://ossci-datasets.s3.amazonaws.com/mnist/train-images-idx3-ubyte.gz\n",
            "Downloading https://ossci-datasets.s3.amazonaws.com/mnist/train-images-idx3-ubyte.gz to /content/dataset/MNIST/raw/train-images-idx3-ubyte.gz\n"
          ]
        },
        {
          "output_type": "stream",
          "name": "stderr",
          "text": [
            "100%|██████████| 9.91M/9.91M [00:00<00:00, 17.5MB/s]\n"
          ]
        },
        {
          "output_type": "stream",
          "name": "stdout",
          "text": [
            "Extracting /content/dataset/MNIST/raw/train-images-idx3-ubyte.gz to /content/dataset/MNIST/raw\n",
            "\n",
            "Downloading http://yann.lecun.com/exdb/mnist/train-labels-idx1-ubyte.gz\n",
            "Failed to download (trying next):\n",
            "HTTP Error 403: Forbidden\n",
            "\n",
            "Downloading https://ossci-datasets.s3.amazonaws.com/mnist/train-labels-idx1-ubyte.gz\n",
            "Downloading https://ossci-datasets.s3.amazonaws.com/mnist/train-labels-idx1-ubyte.gz to /content/dataset/MNIST/raw/train-labels-idx1-ubyte.gz\n"
          ]
        },
        {
          "output_type": "stream",
          "name": "stderr",
          "text": [
            "100%|██████████| 28.9k/28.9k [00:00<00:00, 482kB/s]\n"
          ]
        },
        {
          "output_type": "stream",
          "name": "stdout",
          "text": [
            "Extracting /content/dataset/MNIST/raw/train-labels-idx1-ubyte.gz to /content/dataset/MNIST/raw\n",
            "\n",
            "Downloading http://yann.lecun.com/exdb/mnist/t10k-images-idx3-ubyte.gz\n",
            "Failed to download (trying next):\n",
            "HTTP Error 403: Forbidden\n",
            "\n",
            "Downloading https://ossci-datasets.s3.amazonaws.com/mnist/t10k-images-idx3-ubyte.gz\n",
            "Downloading https://ossci-datasets.s3.amazonaws.com/mnist/t10k-images-idx3-ubyte.gz to /content/dataset/MNIST/raw/t10k-images-idx3-ubyte.gz\n"
          ]
        },
        {
          "output_type": "stream",
          "name": "stderr",
          "text": [
            "100%|██████████| 1.65M/1.65M [00:00<00:00, 4.40MB/s]\n"
          ]
        },
        {
          "output_type": "stream",
          "name": "stdout",
          "text": [
            "Extracting /content/dataset/MNIST/raw/t10k-images-idx3-ubyte.gz to /content/dataset/MNIST/raw\n",
            "\n",
            "Downloading http://yann.lecun.com/exdb/mnist/t10k-labels-idx1-ubyte.gz\n",
            "Failed to download (trying next):\n",
            "HTTP Error 403: Forbidden\n",
            "\n",
            "Downloading https://ossci-datasets.s3.amazonaws.com/mnist/t10k-labels-idx1-ubyte.gz\n",
            "Downloading https://ossci-datasets.s3.amazonaws.com/mnist/t10k-labels-idx1-ubyte.gz to /content/dataset/MNIST/raw/t10k-labels-idx1-ubyte.gz\n"
          ]
        },
        {
          "output_type": "stream",
          "name": "stderr",
          "text": [
            "100%|██████████| 4.54k/4.54k [00:00<00:00, 3.13MB/s]"
          ]
        },
        {
          "output_type": "stream",
          "name": "stdout",
          "text": [
            "Extracting /content/dataset/MNIST/raw/t10k-labels-idx1-ubyte.gz to /content/dataset/MNIST/raw\n",
            "\n"
          ]
        },
        {
          "output_type": "stream",
          "name": "stderr",
          "text": [
            "\n"
          ]
        }
      ]
    },
    {
      "cell_type": "markdown",
      "source": [
        "#Neural Network"
      ],
      "metadata": {
        "id": "8--Rb6FY06j5"
      }
    },
    {
      "cell_type": "code",
      "source": [
        "class TeacherNet(nn.Module):\n",
        "  def __init__(self):\n",
        "    super(TeacherNet,self).__init__()\n",
        "    self.fc1 = nn.Linear(in_features=784,out_features=1200,bias=True)\n",
        "    self.fc2 = nn.Linear(in_features=1200,out_features=1200,bias=True)\n",
        "    self.layer_out = nn.Linear(in_features=1200,out_features=10,bias=True)\n",
        "    self.layers = [self.fc1,self.fc2,self.layer_out]\n",
        "    self.initialize()\n",
        "\n",
        "  def initialize(self):\n",
        "    for layer in self.layers:\n",
        "      torch.nn.init.kaiming_normal_(layer.weight, mode='fan_in', nonlinearity='relu')  #He initialization\n",
        "      torch.nn.init.constant_(layer.bias,val=0.0)\n",
        "\n",
        "  def forward(self,x):\n",
        "    x = x.view(-1,784)\n",
        "    x = F.dropout(x,p=0.2,training=self.training)\n",
        "    x = F.relu(self.fc1(x))\n",
        "    x = F.dropout(x,p=0.5,training=self.training)\n",
        "    x = F.relu(self.fc2(x))\n",
        "    x = F.dropout(x,p=0.5,training=self.training)\n",
        "    x = self.layer_out(x)\n",
        "    return x"
      ],
      "metadata": {
        "id": "DMImoG0Z0ECw"
      },
      "execution_count": 5,
      "outputs": []
    },
    {
      "cell_type": "code",
      "source": [
        "torch.manual_seed(random_seed)\n",
        "teacher = TeacherNet().to(device)"
      ],
      "metadata": {
        "id": "lr6-P0AU0UZE"
      },
      "execution_count": 6,
      "outputs": []
    },
    {
      "cell_type": "markdown",
      "source": [
        "#Training"
      ],
      "metadata": {
        "id": "EOV6TMeV1DlY"
      }
    },
    {
      "cell_type": "code",
      "source": [
        "criterion = nn.CrossEntropyLoss()"
      ],
      "metadata": {
        "id": "M1kdpqlP2Wo-"
      },
      "execution_count": 7,
      "outputs": []
    },
    {
      "cell_type": "code",
      "source": [
        "optimizer = optim.SGD(teacher.parameters(),lr=init_lr)\n",
        "scheduler = optim.lr_scheduler.ReduceLROnPlateau(optimizer, mode='min', factor=0.1, patience=10, threshold=0.001, threshold_mode='rel')"
      ],
      "metadata": {
        "id": "OUsWn200e1sb"
      },
      "execution_count": 8,
      "outputs": []
    },
    {
      "cell_type": "code",
      "source": [
        "if os.path.exists('/content/teacher')==False:\n",
        "  os.mkdir('/content/teacher')"
      ],
      "metadata": {
        "id": "uUNMNpFuAFSn"
      },
      "execution_count": 9,
      "outputs": []
    },
    {
      "cell_type": "code",
      "source": [
        "def log(t):\n",
        "        logname = os.path.join('/content/teacher', 'KnowledgeDistillation_MLP_teacher_mnist_v2.txt')\n",
        "        with open(logname, 'a') as f:\n",
        "            f.write('json_stats: ' + json.dumps(t) + '\\n')\n",
        "        print(t)"
      ],
      "metadata": {
        "id": "BZnFM2MNAEJB"
      },
      "execution_count": 10,
      "outputs": []
    },
    {
      "cell_type": "code",
      "source": [
        "def train(model,criterion,optimizer,sheduler,num_epochs):\n",
        "  bestparams = copy.deepcopy(model.state_dict())\n",
        "  best_correct = 0\n",
        "  time_start = time.time()\n",
        "  for epoch in range(num_epochs):\n",
        "    train_loss = 0.\n",
        "    val_loss = 0.\n",
        "    train_correct = 0\n",
        "    val_correct = 0\n",
        "    #training phase\n",
        "    model.train()\n",
        "    for x,y in train_loader:\n",
        "      x = x.to(device)\n",
        "      y = y.to(device)\n",
        "      optimizer.zero_grad()\n",
        "      y_hat = model.forward(x)\n",
        "      loss = criterion(y_hat,y)\n",
        "      loss.backward()\n",
        "      optimizer.step()\n",
        "      with torch.no_grad():\n",
        "        for layer in model.layers:\n",
        "            norm = torch.linalg.vector_norm(p,dim=1,keepdim=True)\n",
        "            mult_coef =  norm.reciprocal_().mul_(np.sqrt(l)).clamp_(max=1.0)\n",
        "            layer.weight.mul_(mult_coef)\n",
        "\n",
        "    model.eval()\n",
        "    for x,y in train_loader:\n",
        "      x = x.to(device)\n",
        "      y = y.to(device)\n",
        "      y_hat = model.forward(x)\n",
        "      loss = criterion(y_hat,y)\n",
        "      train_loss+= loss.item()*x.size(0)\n",
        "      train_correct += (((torch.argmax(y_hat,dim=1)==y)).sum()).item()\n",
        "    train_loss = train_loss/len(train_dataset)\n",
        "    train_error = len(train_dataset)-train_correct\n",
        "    train_acc = train_correct/len(train_dataset)\n",
        "\n",
        "    #validation phase\n",
        "    model.eval()\n",
        "    for x,y in val_loader:\n",
        "      x = x.to(device)\n",
        "      y = y.to(device)\n",
        "      y_hat = model.forward(x)\n",
        "      loss = criterion(y_hat,y)\n",
        "      val_loss += loss.item()*x.size(0)\n",
        "      val_correct += (((torch.max(y_hat,dim=1)[1]==y)).sum()).item()\n",
        "    val_loss = val_loss/len(val_dataset)\n",
        "    val_error = len(val_dataset)-val_correct\n",
        "    val_acc = val_correct/len(val_dataset)\n",
        "\n",
        "    scheduler.step(val_loss)\n",
        "    if epoch%10==0:\n",
        "      scheduler.get_last_lr()\n",
        "\n",
        "    if val_correct > best_correct:\n",
        "      bestparams = copy.deepcopy(model.state_dict())\n",
        "      best_correct = val_correct\n",
        "\n",
        "    log({\n",
        "            \"epoch\": epoch+1,\n",
        "            \"train_loss\": train_loss,\n",
        "            \"train_correct\": train_correct,\n",
        "            \"train_error\": train_error,\n",
        "            \"train_acc\" : train_acc,\n",
        "            \"val_loss\": val_loss,\n",
        "            \"val_correct\": val_correct,\n",
        "            \"val_error\": val_error,\n",
        "            \"val_acc\" : val_acc,\n",
        "           })\n",
        "  time_fin = time.time()-time_start\n",
        "  print('time: {}'.format(time_fin))\n",
        "  return bestparams"
      ],
      "metadata": {
        "id": "ihaYol1i3MRI"
      },
      "execution_count": null,
      "outputs": []
    },
    {
      "cell_type": "code",
      "source": [
        "optimized_params = train(teacher,criterion,optimizer,scheduler,num_epochs=num_epochs)"
      ],
      "metadata": {
        "colab": {
          "base_uri": "https://localhost:8080/"
        },
        "id": "MMKObNf15OPb",
        "outputId": "bed2d9e1-58d5-4fb4-f11c-f29a2016ecf9"
      },
      "execution_count": null,
      "outputs": [
        {
          "output_type": "stream",
          "name": "stdout",
          "text": [
            "{'epoch': 1, 'train_loss': 0.8025762234876553, 'train_correct': 44393, 'train_error': 15607, 'train_acc': 0.7398833333333333, 'val_loss': 0.16632831441238521, 'val_correct': 9539, 'val_error': 461, 'val_acc': 0.9539}\n",
            "{'epoch': 2, 'train_loss': 0.30193064662317437, 'train_correct': 54360, 'train_error': 5640, 'train_acc': 0.906, 'val_loss': 0.1160104529792443, 'val_correct': 9654, 'val_error': 346, 'val_acc': 0.9654}\n",
            "{'epoch': 3, 'train_loss': 0.2386501281087597, 'train_correct': 55557, 'train_error': 4443, 'train_acc': 0.92595, 'val_loss': 0.08764601001748815, 'val_correct': 9740, 'val_error': 260, 'val_acc': 0.974}\n",
            "{'epoch': 4, 'train_loss': 0.2074875088594854, 'train_correct': 56122, 'train_error': 3878, 'train_acc': 0.9353666666666667, 'val_loss': 0.07507639348390512, 'val_correct': 9763, 'val_error': 237, 'val_acc': 0.9763}\n",
            "{'epoch': 5, 'train_loss': 0.18827150960142414, 'train_correct': 56543, 'train_error': 3457, 'train_acc': 0.9423833333333334, 'val_loss': 0.07437455941690133, 'val_correct': 9772, 'val_error': 228, 'val_acc': 0.9772}\n",
            "{'epoch': 6, 'train_loss': 0.17021576328823965, 'train_correct': 56876, 'train_error': 3124, 'train_acc': 0.9479333333333333, 'val_loss': 0.06647108183708042, 'val_correct': 9779, 'val_error': 221, 'val_acc': 0.9779}\n",
            "{'epoch': 7, 'train_loss': 0.16084515161812304, 'train_correct': 56996, 'train_error': 3004, 'train_acc': 0.9499333333333333, 'val_loss': 0.060542100993916395, 'val_correct': 9811, 'val_error': 189, 'val_acc': 0.9811}\n",
            "{'epoch': 8, 'train_loss': 0.15246763466546934, 'train_correct': 57185, 'train_error': 2815, 'train_acc': 0.9530833333333333, 'val_loss': 0.05932646764907986, 'val_correct': 9802, 'val_error': 198, 'val_acc': 0.9802}\n",
            "{'epoch': 9, 'train_loss': 0.14522702656065425, 'train_correct': 57325, 'train_error': 2675, 'train_acc': 0.9554166666666667, 'val_loss': 0.0502492323552724, 'val_correct': 9844, 'val_error': 156, 'val_acc': 0.9844}\n",
            "{'epoch': 10, 'train_loss': 0.13665745933850607, 'train_correct': 57438, 'train_error': 2562, 'train_acc': 0.9573, 'val_loss': 0.05295928795676445, 'val_correct': 9825, 'val_error': 175, 'val_acc': 0.9825}\n",
            "{'epoch': 11, 'train_loss': 0.13564545926017066, 'train_correct': 57478, 'train_error': 2522, 'train_acc': 0.9579666666666666, 'val_loss': 0.049803460808761885, 'val_correct': 9833, 'val_error': 167, 'val_acc': 0.9833}\n",
            "{'epoch': 12, 'train_loss': 0.1300414857454598, 'train_correct': 57557, 'train_error': 2443, 'train_acc': 0.9592833333333334, 'val_loss': 0.04625435746915173, 'val_correct': 9847, 'val_error': 153, 'val_acc': 0.9847}\n",
            "{'epoch': 13, 'train_loss': 0.12407530175832411, 'train_correct': 57647, 'train_error': 2353, 'train_acc': 0.9607833333333333, 'val_loss': 0.04785088599892333, 'val_correct': 9856, 'val_error': 144, 'val_acc': 0.9856}\n",
            "{'epoch': 14, 'train_loss': 0.11774762482692798, 'train_correct': 57764, 'train_error': 2236, 'train_acc': 0.9627333333333333, 'val_loss': 0.04021124667313416, 'val_correct': 9876, 'val_error': 124, 'val_acc': 0.9876}\n",
            "{'epoch': 15, 'train_loss': 0.11958623477413009, 'train_correct': 57802, 'train_error': 2198, 'train_acc': 0.9633666666666667, 'val_loss': 0.04090266365237767, 'val_correct': 9865, 'val_error': 135, 'val_acc': 0.9865}\n",
            "{'epoch': 16, 'train_loss': 0.1149675616590927, 'train_correct': 57858, 'train_error': 2142, 'train_acc': 0.9643, 'val_loss': 0.041304503199644384, 'val_correct': 9873, 'val_error': 127, 'val_acc': 0.9873}\n",
            "{'epoch': 17, 'train_loss': 0.11490927247330546, 'train_correct': 57837, 'train_error': 2163, 'train_acc': 0.96395, 'val_loss': 0.0407212455435365, 'val_correct': 9866, 'val_error': 134, 'val_acc': 0.9866}\n",
            "{'epoch': 18, 'train_loss': 0.11194692223332822, 'train_correct': 57877, 'train_error': 2123, 'train_acc': 0.9646166666666667, 'val_loss': 0.0394181104094605, 'val_correct': 9881, 'val_error': 119, 'val_acc': 0.9881}\n",
            "{'epoch': 19, 'train_loss': 0.11008644171990455, 'train_correct': 57971, 'train_error': 2029, 'train_acc': 0.9661833333333333, 'val_loss': 0.037859765354514824, 'val_correct': 9875, 'val_error': 125, 'val_acc': 0.9875}\n",
            "{'epoch': 20, 'train_loss': 0.10898196021094918, 'train_correct': 57964, 'train_error': 2036, 'train_acc': 0.9660666666666666, 'val_loss': 0.03916723039612407, 'val_correct': 9884, 'val_error': 116, 'val_acc': 0.9884}\n",
            "{'epoch': 21, 'train_loss': 0.10615370429276179, 'train_correct': 58032, 'train_error': 1968, 'train_acc': 0.9672, 'val_loss': 0.037171680370083775, 'val_correct': 9876, 'val_error': 124, 'val_acc': 0.9876}\n",
            "{'epoch': 22, 'train_loss': 0.10171826702076942, 'train_correct': 58122, 'train_error': 1878, 'train_acc': 0.9687, 'val_loss': 0.03670644459329196, 'val_correct': 9873, 'val_error': 127, 'val_acc': 0.9873}\n",
            "{'epoch': 23, 'train_loss': 0.09977047978279491, 'train_correct': 58118, 'train_error': 1882, 'train_acc': 0.9686333333333333, 'val_loss': 0.03700801716651767, 'val_correct': 9881, 'val_error': 119, 'val_acc': 0.9881}\n",
            "{'epoch': 24, 'train_loss': 0.09598713563134273, 'train_correct': 58202, 'train_error': 1798, 'train_acc': 0.9700333333333333, 'val_loss': 0.036661849158554104, 'val_correct': 9874, 'val_error': 126, 'val_acc': 0.9874}\n",
            "{'epoch': 25, 'train_loss': 0.098877004563498, 'train_correct': 58153, 'train_error': 1847, 'train_acc': 0.9692166666666666, 'val_loss': 0.03565923383968766, 'val_correct': 9889, 'val_error': 111, 'val_acc': 0.9889}\n",
            "{'epoch': 26, 'train_loss': 0.09584866491146386, 'train_correct': 58191, 'train_error': 1809, 'train_acc': 0.96985, 'val_loss': 0.03426480327936588, 'val_correct': 9890, 'val_error': 110, 'val_acc': 0.989}\n",
            "{'epoch': 27, 'train_loss': 0.09524399662700792, 'train_correct': 58218, 'train_error': 1782, 'train_acc': 0.9703, 'val_loss': 0.03558231731556589, 'val_correct': 9882, 'val_error': 118, 'val_acc': 0.9882}\n",
            "{'epoch': 28, 'train_loss': 0.09479799670167267, 'train_correct': 58220, 'train_error': 1780, 'train_acc': 0.9703333333333334, 'val_loss': 0.03589878188693547, 'val_correct': 9881, 'val_error': 119, 'val_acc': 0.9881}\n",
            "{'epoch': 29, 'train_loss': 0.09013101595919579, 'train_correct': 58300, 'train_error': 1700, 'train_acc': 0.9716666666666667, 'val_loss': 0.03381019884742273, 'val_correct': 9895, 'val_error': 105, 'val_acc': 0.9895}\n",
            "{'epoch': 30, 'train_loss': 0.09280411693733186, 'train_correct': 58217, 'train_error': 1783, 'train_acc': 0.9702833333333334, 'val_loss': 0.03363031568194856, 'val_correct': 9893, 'val_error': 107, 'val_acc': 0.9893}\n",
            "{'epoch': 31, 'train_loss': 0.08896166796019922, 'train_correct': 58316, 'train_error': 1684, 'train_acc': 0.9719333333333333, 'val_loss': 0.031050789159489795, 'val_correct': 9907, 'val_error': 93, 'val_acc': 0.9907}\n",
            "{'epoch': 32, 'train_loss': 0.09100699633903181, 'train_correct': 58325, 'train_error': 1675, 'train_acc': 0.9720833333333333, 'val_loss': 0.03487286059680628, 'val_correct': 9873, 'val_error': 127, 'val_acc': 0.9873}\n",
            "{'epoch': 33, 'train_loss': 0.08776912976133948, 'train_correct': 58350, 'train_error': 1650, 'train_acc': 0.9725, 'val_loss': 0.03180783655079722, 'val_correct': 9895, 'val_error': 105, 'val_acc': 0.9895}\n",
            "{'epoch': 34, 'train_loss': 0.08712747849989683, 'train_correct': 58364, 'train_error': 1636, 'train_acc': 0.9727333333333333, 'val_loss': 0.031469067098514644, 'val_correct': 9903, 'val_error': 97, 'val_acc': 0.9903}\n",
            "{'epoch': 35, 'train_loss': 0.08860877287574112, 'train_correct': 58347, 'train_error': 1653, 'train_acc': 0.97245, 'val_loss': 0.03260344031616114, 'val_correct': 9889, 'val_error': 111, 'val_acc': 0.9889}\n",
            "{'epoch': 36, 'train_loss': 0.08609222652080159, 'train_correct': 58348, 'train_error': 1652, 'train_acc': 0.9724666666666667, 'val_loss': 0.032106034610187635, 'val_correct': 9899, 'val_error': 101, 'val_acc': 0.9899}\n",
            "{'epoch': 37, 'train_loss': 0.08305350997640441, 'train_correct': 58445, 'train_error': 1555, 'train_acc': 0.9740833333333333, 'val_loss': 0.03240080407704227, 'val_correct': 9901, 'val_error': 99, 'val_acc': 0.9901}\n",
            "{'epoch': 38, 'train_loss': 0.08625523699447513, 'train_correct': 58393, 'train_error': 1607, 'train_acc': 0.9732166666666666, 'val_loss': 0.03175895762818982, 'val_correct': 9897, 'val_error': 103, 'val_acc': 0.9897}\n",
            "{'epoch': 39, 'train_loss': 0.0852096839241373, 'train_correct': 58448, 'train_error': 1552, 'train_acc': 0.9741333333333333, 'val_loss': 0.0326075577676238, 'val_correct': 9902, 'val_error': 98, 'val_acc': 0.9902}\n",
            "{'epoch': 40, 'train_loss': 0.0839772324776277, 'train_correct': 58430, 'train_error': 1570, 'train_acc': 0.9738333333333333, 'val_loss': 0.031133362527907594, 'val_correct': 9903, 'val_error': 97, 'val_acc': 0.9903}\n",
            "{'epoch': 41, 'train_loss': 0.08365483777985598, 'train_correct': 58427, 'train_error': 1573, 'train_acc': 0.9737833333333333, 'val_loss': 0.029222545265656662, 'val_correct': 9913, 'val_error': 87, 'val_acc': 0.9913}\n",
            "{'epoch': 42, 'train_loss': 0.08100400287037095, 'train_correct': 58482, 'train_error': 1518, 'train_acc': 0.9747, 'val_loss': 0.028183038533024955, 'val_correct': 9915, 'val_error': 85, 'val_acc': 0.9915}\n",
            "{'epoch': 43, 'train_loss': 0.08045374124466131, 'train_correct': 58450, 'train_error': 1550, 'train_acc': 0.9741666666666666, 'val_loss': 0.027098140110756504, 'val_correct': 9913, 'val_error': 87, 'val_acc': 0.9913}\n",
            "{'epoch': 44, 'train_loss': 0.07970033277253, 'train_correct': 58541, 'train_error': 1459, 'train_acc': 0.9756833333333333, 'val_loss': 0.027869445710675792, 'val_correct': 9919, 'val_error': 81, 'val_acc': 0.9919}\n",
            "{'epoch': 45, 'train_loss': 0.07789280720675985, 'train_correct': 58546, 'train_error': 1454, 'train_acc': 0.9757666666666667, 'val_loss': 0.02913827281910926, 'val_correct': 9911, 'val_error': 89, 'val_acc': 0.9911}\n",
            "{'epoch': 46, 'train_loss': 0.07851965695774804, 'train_correct': 58505, 'train_error': 1495, 'train_acc': 0.9750833333333333, 'val_loss': 0.02965412232806557, 'val_correct': 9906, 'val_error': 94, 'val_acc': 0.9906}\n",
            "{'epoch': 47, 'train_loss': 0.07656576010476177, 'train_correct': 58569, 'train_error': 1431, 'train_acc': 0.97615, 'val_loss': 0.028508062644687016, 'val_correct': 9907, 'val_error': 93, 'val_acc': 0.9907}\n",
            "{'epoch': 48, 'train_loss': 0.0763295800688987, 'train_correct': 58546, 'train_error': 1454, 'train_acc': 0.9757666666666667, 'val_loss': 0.029512676007288973, 'val_correct': 9910, 'val_error': 90, 'val_acc': 0.991}\n",
            "{'epoch': 49, 'train_loss': 0.0757900736007529, 'train_correct': 58523, 'train_error': 1477, 'train_acc': 0.9753833333333334, 'val_loss': 0.028783975150035987, 'val_correct': 9904, 'val_error': 96, 'val_acc': 0.9904}\n",
            "{'epoch': 50, 'train_loss': 0.07847848711845776, 'train_correct': 58505, 'train_error': 1495, 'train_acc': 0.9750833333333333, 'val_loss': 0.028695260533495456, 'val_correct': 9910, 'val_error': 90, 'val_acc': 0.991}\n",
            "{'epoch': 51, 'train_loss': 0.07411527780350298, 'train_correct': 58593, 'train_error': 1407, 'train_acc': 0.97655, 'val_loss': 0.02867182254769432, 'val_correct': 9908, 'val_error': 92, 'val_acc': 0.9908}\n",
            "{'epoch': 52, 'train_loss': 0.0762302764908721, 'train_correct': 58549, 'train_error': 1451, 'train_acc': 0.9758166666666667, 'val_loss': 0.027072836688239475, 'val_correct': 9916, 'val_error': 84, 'val_acc': 0.9916}\n",
            "{'epoch': 53, 'train_loss': 0.07462647998007015, 'train_correct': 58570, 'train_error': 1430, 'train_acc': 0.9761666666666666, 'val_loss': 0.027135490309083254, 'val_correct': 9917, 'val_error': 83, 'val_acc': 0.9917}\n",
            "{'epoch': 54, 'train_loss': 0.07518857025541364, 'train_correct': 58554, 'train_error': 1446, 'train_acc': 0.9759, 'val_loss': 0.02818653534646728, 'val_correct': 9910, 'val_error': 90, 'val_acc': 0.991}\n",
            "{'epoch': 55, 'train_loss': 0.07217652688967063, 'train_correct': 58635, 'train_error': 1365, 'train_acc': 0.97725, 'val_loss': 0.028892684524980724, 'val_correct': 9901, 'val_error': 99, 'val_acc': 0.9901}\n",
            "{'epoch': 56, 'train_loss': 0.07356788978834326, 'train_correct': 58597, 'train_error': 1403, 'train_acc': 0.9766166666666667, 'val_loss': 0.028552297819478555, 'val_correct': 9914, 'val_error': 86, 'val_acc': 0.9914}\n",
            "{'epoch': 57, 'train_loss': 0.07189806751596431, 'train_correct': 58611, 'train_error': 1389, 'train_acc': 0.97685, 'val_loss': 0.02875378349399398, 'val_correct': 9918, 'val_error': 82, 'val_acc': 0.9918}\n",
            "{'epoch': 58, 'train_loss': 0.07189966160183152, 'train_correct': 58648, 'train_error': 1352, 'train_acc': 0.9774666666666667, 'val_loss': 0.02974967625879799, 'val_correct': 9906, 'val_error': 94, 'val_acc': 0.9906}\n",
            "{'epoch': 59, 'train_loss': 0.07207915242062882, 'train_correct': 58605, 'train_error': 1395, 'train_acc': 0.97675, 'val_loss': 0.028818535370737662, 'val_correct': 9915, 'val_error': 85, 'val_acc': 0.9915}\n",
            "{'epoch': 60, 'train_loss': 0.07176686961514255, 'train_correct': 58624, 'train_error': 1376, 'train_acc': 0.9770666666666666, 'val_loss': 0.029560746650677174, 'val_correct': 9906, 'val_error': 94, 'val_acc': 0.9906}\n",
            "{'epoch': 61, 'train_loss': 0.07453433472507943, 'train_correct': 58597, 'train_error': 1403, 'train_acc': 0.9766166666666667, 'val_loss': 0.027852672018671, 'val_correct': 9907, 'val_error': 93, 'val_acc': 0.9907}\n",
            "{'epoch': 62, 'train_loss': 0.07149092314376806, 'train_correct': 58650, 'train_error': 1350, 'train_acc': 0.9775, 'val_loss': 0.026687087356185656, 'val_correct': 9914, 'val_error': 86, 'val_acc': 0.9914}\n",
            "{'epoch': 63, 'train_loss': 0.070605708581085, 'train_correct': 58666, 'train_error': 1334, 'train_acc': 0.9777666666666667, 'val_loss': 0.028511349505643012, 'val_correct': 9909, 'val_error': 91, 'val_acc': 0.9909}\n",
            "{'epoch': 64, 'train_loss': 0.06846632438944653, 'train_correct': 58681, 'train_error': 1319, 'train_acc': 0.9780166666666666, 'val_loss': 0.02658291909396212, 'val_correct': 9910, 'val_error': 90, 'val_acc': 0.991}\n",
            "{'epoch': 65, 'train_loss': 0.0709468850780589, 'train_correct': 58650, 'train_error': 1350, 'train_acc': 0.9775, 'val_loss': 0.025500525985407876, 'val_correct': 9917, 'val_error': 83, 'val_acc': 0.9917}\n",
            "{'epoch': 66, 'train_loss': 0.07108493807803219, 'train_correct': 58675, 'train_error': 1325, 'train_acc': 0.9779166666666667, 'val_loss': 0.02583355722061242, 'val_correct': 9919, 'val_error': 81, 'val_acc': 0.9919}\n",
            "{'epoch': 67, 'train_loss': 0.06883547773274283, 'train_correct': 58683, 'train_error': 1317, 'train_acc': 0.97805, 'val_loss': 0.027679347848243198, 'val_correct': 9909, 'val_error': 91, 'val_acc': 0.9909}\n",
            "{'epoch': 68, 'train_loss': 0.06963778769985463, 'train_correct': 58699, 'train_error': 1301, 'train_acc': 0.9783166666666666, 'val_loss': 0.025895006436257972, 'val_correct': 9918, 'val_error': 82, 'val_acc': 0.9918}\n",
            "{'epoch': 69, 'train_loss': 0.06859181815835957, 'train_correct': 58646, 'train_error': 1354, 'train_acc': 0.9774333333333334, 'val_loss': 0.02524776798891253, 'val_correct': 9914, 'val_error': 86, 'val_acc': 0.9914}\n",
            "{'epoch': 70, 'train_loss': 0.06845236299559473, 'train_correct': 58683, 'train_error': 1317, 'train_acc': 0.97805, 'val_loss': 0.025710765106559848, 'val_correct': 9921, 'val_error': 79, 'val_acc': 0.9921}\n",
            "{'epoch': 71, 'train_loss': 0.06979673212471728, 'train_correct': 58671, 'train_error': 1329, 'train_acc': 0.97785, 'val_loss': 0.02660097274259897, 'val_correct': 9920, 'val_error': 80, 'val_acc': 0.992}\n",
            "{'epoch': 72, 'train_loss': 0.0686433772665138, 'train_correct': 58680, 'train_error': 1320, 'train_acc': 0.978, 'val_loss': 0.025839831016928657, 'val_correct': 9918, 'val_error': 82, 'val_acc': 0.9918}\n",
            "{'epoch': 73, 'train_loss': 0.06844222945859656, 'train_correct': 58664, 'train_error': 1336, 'train_acc': 0.9777333333333333, 'val_loss': 0.02440221394113905, 'val_correct': 9919, 'val_error': 81, 'val_acc': 0.9919}\n",
            "{'epoch': 74, 'train_loss': 0.06642099945417916, 'train_correct': 58736, 'train_error': 1264, 'train_acc': 0.9789333333333333, 'val_loss': 0.02613696175045334, 'val_correct': 9913, 'val_error': 87, 'val_acc': 0.9913}\n",
            "{'epoch': 75, 'train_loss': 0.06624283213556434, 'train_correct': 58745, 'train_error': 1255, 'train_acc': 0.9790833333333333, 'val_loss': 0.025293155704639504, 'val_correct': 9916, 'val_error': 84, 'val_acc': 0.9916}\n",
            "{'epoch': 76, 'train_loss': 0.06548888467873136, 'train_correct': 58740, 'train_error': 1260, 'train_acc': 0.979, 'val_loss': 0.027087768795972807, 'val_correct': 9908, 'val_error': 92, 'val_acc': 0.9908}\n",
            "{'epoch': 77, 'train_loss': 0.06603895876168583, 'train_correct': 58725, 'train_error': 1275, 'train_acc': 0.97875, 'val_loss': 0.025626253424088644, 'val_correct': 9910, 'val_error': 90, 'val_acc': 0.991}\n",
            "{'epoch': 78, 'train_loss': 0.06508799709922944, 'train_correct': 58785, 'train_error': 1215, 'train_acc': 0.97975, 'val_loss': 0.025090916600383935, 'val_correct': 9918, 'val_error': 82, 'val_acc': 0.9918}\n",
            "{'epoch': 79, 'train_loss': 0.063915704030854, 'train_correct': 58736, 'train_error': 1264, 'train_acc': 0.9789333333333333, 'val_loss': 0.02613266254127666, 'val_correct': 9916, 'val_error': 84, 'val_acc': 0.9916}\n",
            "{'epoch': 80, 'train_loss': 0.06870632394527396, 'train_correct': 58668, 'train_error': 1332, 'train_acc': 0.9778, 'val_loss': 0.025937307650601725, 'val_correct': 9919, 'val_error': 81, 'val_acc': 0.9919}\n",
            "{'epoch': 81, 'train_loss': 0.06468140332222296, 'train_correct': 58756, 'train_error': 1244, 'train_acc': 0.9792666666666666, 'val_loss': 0.024354298028265477, 'val_correct': 9921, 'val_error': 79, 'val_acc': 0.9921}\n",
            "{'epoch': 82, 'train_loss': 0.06297981397947297, 'train_correct': 58780, 'train_error': 1220, 'train_acc': 0.9796666666666667, 'val_loss': 0.025307076977187534, 'val_correct': 9918, 'val_error': 82, 'val_acc': 0.9918}\n",
            "{'epoch': 83, 'train_loss': 0.06610973168474933, 'train_correct': 58724, 'train_error': 1276, 'train_acc': 0.9787333333333333, 'val_loss': 0.0240787492169693, 'val_correct': 9923, 'val_error': 77, 'val_acc': 0.9923}\n",
            "{'epoch': 84, 'train_loss': 0.06411260364033902, 'train_correct': 58764, 'train_error': 1236, 'train_acc': 0.9794, 'val_loss': 0.02528770574121154, 'val_correct': 9917, 'val_error': 83, 'val_acc': 0.9917}\n",
            "{'epoch': 85, 'train_loss': 0.06376823694212362, 'train_correct': 58792, 'train_error': 1208, 'train_acc': 0.9798666666666667, 'val_loss': 0.023735093730865627, 'val_correct': 9927, 'val_error': 73, 'val_acc': 0.9927}\n",
            "{'epoch': 86, 'train_loss': 0.06250009123895628, 'train_correct': 58801, 'train_error': 1199, 'train_acc': 0.9800166666666666, 'val_loss': 0.02350654486584972, 'val_correct': 9926, 'val_error': 74, 'val_acc': 0.9926}\n",
            "{'epoch': 87, 'train_loss': 0.06324573550606147, 'train_correct': 58791, 'train_error': 1209, 'train_acc': 0.97985, 'val_loss': 0.02450529642155743, 'val_correct': 9914, 'val_error': 86, 'val_acc': 0.9914}\n",
            "{'epoch': 88, 'train_loss': 0.06446834463936588, 'train_correct': 58741, 'train_error': 1259, 'train_acc': 0.9790166666666666, 'val_loss': 0.026045483882699047, 'val_correct': 9908, 'val_error': 92, 'val_acc': 0.9908}\n",
            "{'epoch': 89, 'train_loss': 0.06337806680472567, 'train_correct': 58818, 'train_error': 1182, 'train_acc': 0.9803, 'val_loss': 0.02492865314718074, 'val_correct': 9912, 'val_error': 88, 'val_acc': 0.9912}\n",
            "{'epoch': 90, 'train_loss': 0.06403007058116297, 'train_correct': 58790, 'train_error': 1210, 'train_acc': 0.9798333333333333, 'val_loss': 0.02401845584048715, 'val_correct': 9920, 'val_error': 80, 'val_acc': 0.992}\n",
            "{'epoch': 91, 'train_loss': 0.06250435788184404, 'train_correct': 58788, 'train_error': 1212, 'train_acc': 0.9798, 'val_loss': 0.02388636992804095, 'val_correct': 9917, 'val_error': 83, 'val_acc': 0.9917}\n",
            "{'epoch': 92, 'train_loss': 0.06276656170065205, 'train_correct': 58809, 'train_error': 1191, 'train_acc': 0.98015, 'val_loss': 0.027430348908546877, 'val_correct': 9910, 'val_error': 90, 'val_acc': 0.991}\n",
            "{'epoch': 93, 'train_loss': 0.06318428207887336, 'train_correct': 58760, 'train_error': 1240, 'train_acc': 0.9793333333333333, 'val_loss': 0.024725151742386514, 'val_correct': 9914, 'val_error': 86, 'val_acc': 0.9914}\n",
            "{'epoch': 94, 'train_loss': 0.06202316144869353, 'train_correct': 58795, 'train_error': 1205, 'train_acc': 0.9799166666666667, 'val_loss': 0.024282745130003603, 'val_correct': 9922, 'val_error': 78, 'val_acc': 0.9922}\n",
            "{'epoch': 95, 'train_loss': 0.06277876506016279, 'train_correct': 58773, 'train_error': 1227, 'train_acc': 0.97955, 'val_loss': 0.023586114105892193, 'val_correct': 9922, 'val_error': 78, 'val_acc': 0.9922}\n",
            "{'epoch': 96, 'train_loss': 0.06005556542115907, 'train_correct': 58819, 'train_error': 1181, 'train_acc': 0.9803166666666666, 'val_loss': 0.025868505931175605, 'val_correct': 9914, 'val_error': 86, 'val_acc': 0.9914}\n",
            "{'epoch': 97, 'train_loss': 0.06074426850730864, 'train_correct': 58789, 'train_error': 1211, 'train_acc': 0.9798166666666667, 'val_loss': 0.025208805207221303, 'val_correct': 9914, 'val_error': 86, 'val_acc': 0.9914}\n",
            "{'epoch': 98, 'train_loss': 0.059674354659703874, 'train_correct': 58854, 'train_error': 1146, 'train_acc': 0.9809, 'val_loss': 0.023182147581246683, 'val_correct': 9923, 'val_error': 77, 'val_acc': 0.9923}\n",
            "{'epoch': 99, 'train_loss': 0.056629588625316196, 'train_correct': 58928, 'train_error': 1072, 'train_acc': 0.9821333333333333, 'val_loss': 0.022630559410681598, 'val_correct': 9924, 'val_error': 76, 'val_acc': 0.9924}\n",
            "{'epoch': 100, 'train_loss': 0.05711569555530635, 'train_correct': 58900, 'train_error': 1100, 'train_acc': 0.9816666666666667, 'val_loss': 0.022143772840845486, 'val_correct': 9925, 'val_error': 75, 'val_acc': 0.9925}\n",
            "time: 2330.3489396572113\n"
          ]
        }
      ]
    },
    {
      "cell_type": "code",
      "source": [
        "torch.save(optimized_params, '/content/teacher/KnowledgeDistillation_MLP_teacher_mnist_v2.pth.tar')\n",
        "torch.save(dict(params={k: v.data for k, v in optimized_params.items()}),os.path.join('/content/teacher', 'KnowledgeDistillation_MLP_teacher_mnist_v2.pt7'))\n",
        "torch.save({k: v.data for k, v in optimized_params.items()},'/content/teacher/KnowledgeDistillation_MLP_teacher_mnist_v2')"
      ],
      "metadata": {
        "id": "KDA-VxPL5cd4"
      },
      "execution_count": null,
      "outputs": []
    }
  ]
}